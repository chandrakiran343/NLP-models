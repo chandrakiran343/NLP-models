{
 "cells": [
  {
   "cell_type": "code",
   "execution_count": 1,
   "metadata": {},
   "outputs": [
    {
     "name": "stderr",
     "output_type": "stream",
     "text": [
      "C:\\Users\\chand\\AppData\\Local\\Packages\\PythonSoftwareFoundation.Python.3.9_qbz5n2kfra8p0\\LocalCache\\local-packages\\Python39\\site-packages\\tqdm\\auto.py:22: TqdmWarning: IProgress not found. Please update jupyter and ipywidgets. See https://ipywidgets.readthedocs.io/en/stable/user_install.html\n",
      "  from .autonotebook import tqdm as notebook_tqdm\n"
     ]
    }
   ],
   "source": [
    "import torch\n",
    "from torch import nn\n",
    "import random\n",
    "from matplotlib import pyplot as plt\n",
    "%matplotlib inline"
   ]
  },
  {
   "cell_type": "code",
   "execution_count": 2,
   "metadata": {},
   "outputs": [
    {
     "name": "stdout",
     "output_type": "stream",
     "text": [
      "198\n",
      "2554\n",
      "986\n"
     ]
    }
   ],
   "source": [
    "sentences = open(\"webhacking.txt\", \"r\").read().splitlines()\n",
    "\n",
    "# words = list(set(words))\n",
    "# print(words)\n",
    "print(len(sentences))\n",
    "words = [y.lower() for x in sentences for y in x.split(\" \")]\n",
    "print(len(words))\n",
    "stringtoint = {x: i+1 for i, x in enumerate(set(words))}\n",
    "inttostring = {i+1: x for i, x in enumerate(set(words))}\n",
    "stringtoint[\".\"] = 0\n",
    "inttostring[0] = \".\"\n",
    "print(len(set(words)))"
   ]
  },
  {
   "cell_type": "code",
   "execution_count": 93,
   "metadata": {},
   "outputs": [
    {
     "name": "stdout",
     "output_type": "stream",
     "text": [
      "torch.Size([2554, 3]) torch.Size([2554])\n"
     ]
    }
   ],
   "source": [
    "def make_dataset(sentences, n=3):\n",
    "    X, Y = [] , []\n",
    "\n",
    "    \n",
    "    for sentence in sentences:\n",
    "        context = [0] * n\n",
    "        for word in sentence.split(\" \"):\n",
    "            X.append(context)\n",
    "            ix = stringtoint[word.lower()]\n",
    "            Y.append(ix)\n",
    "            \n",
    "            context = context[1:] + [ix]\n",
    "        \n",
    "    return torch.tensor(X), torch.tensor(Y)    \n",
    "\n",
    "\n",
    "X, Y = make_dataset(sentences)\n",
    "\n",
    "print(X.shape, Y.shape)\n",
    "C = torch.randn([987, 30])\n",
    "w1 = torch.randn((90, 200))\n",
    "b1 = torch.randn((200))\n",
    "w2 = torch.randn((200, 987)) * 0.01\n",
    "\n",
    "b2 = torch.randn((987)) * 0\n",
    "parameters = [w1, b1, w2, b2]\n",
    "\n",
    "for i in parameters:\n",
    "    i.requires_grad = True"
   ]
  },
  {
   "cell_type": "code",
   "execution_count": 94,
   "metadata": {},
   "outputs": [
    {
     "name": "stdout",
     "output_type": "stream",
     "text": [
      "tensor(0.5591, grad_fn=<NllLossBackward0>)\n"
     ]
    }
   ],
   "source": [
    "for i in range(30000):\n",
    "    index = torch.randint(0, X.shape[0], (82,))\n",
    "    # print(C.shape, X[index].shape, index)\n",
    "    res = C[X[index]]\n",
    "    hidden = torch.tanh(res.view(-1, 90) @ w1 + b1)\n",
    "\n",
    "    out = hidden @ w2 + b2\n",
    "    # print(Y[index].shape, out.shape)\n",
    "    loss = nn.functional.cross_entropy(out, Y[index])\n",
    "\n",
    "    for p in parameters:\n",
    "        p.grad = None\n",
    "    \n",
    "    loss.backward()\n",
    "\n",
    "    # update\n",
    "    lr = 0.1 if i < 10000 else 0.01\n",
    "    for p in parameters:\n",
    "        p.data += - lr * p.grad\n",
    "\n",
    "print(loss)\n",
    "\n",
    "\n"
   ]
  },
  {
   "cell_type": "code",
   "execution_count": 104,
   "metadata": {},
   "outputs": [
    {
     "name": "stdout",
     "output_type": "stream",
     "text": [
      "and i kept to know and to a happen and vulnerability and in to stay i initially list everyone how\n"
     ]
    }
   ],
   "source": [
    "for i in range(1):\n",
    "\n",
    "    # start = [random.randint(0, 1049) for i in range(3)]\n",
    "    # start = [ stringtoint[\"web\"], stringtoint[\"hacking\"], stringtoint[\"101\"]]\n",
    "    # start = [0,0,0]\n",
    "    out = [random.randint(0, 987) for x in start]\n",
    "\n",
    "    out = [x for x in start]\n",
    "\n",
    "    \n",
    "    while True:\n",
    "        res = C[torch.tensor([start])]\n",
    "        hidden = torch.tanh(res.view(-1, 90) @ w1 + b1)\n",
    "        logits = hidden @ w2 + b2\n",
    "        logits = nn.functional.softmax(logits, dim=1)\n",
    "        pred = torch.multinomial(logits, 1)\n",
    "        out.append(pred.item())\n",
    "\n",
    "        start = start[1:] + [pred.item()]\n",
    "\n",
    "\n",
    "        if len(out) >= 20:\n",
    "            break\n",
    "    print(\" \".join([ inttostring[x] for x in out]))\n",
    "    # print(out)"
   ]
  }
 ],
 "metadata": {
  "kernelspec": {
   "display_name": "Python 3",
   "language": "python",
   "name": "python3"
  },
  "language_info": {
   "codemirror_mode": {
    "name": "ipython",
    "version": 3
   },
   "file_extension": ".py",
   "mimetype": "text/x-python",
   "name": "python",
   "nbconvert_exporter": "python",
   "pygments_lexer": "ipython3",
   "version": "3.9.13"
  },
  "orig_nbformat": 4
 },
 "nbformat": 4,
 "nbformat_minor": 2
}
