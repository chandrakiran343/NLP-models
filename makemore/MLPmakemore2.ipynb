{
 "cells": [
  {
   "cell_type": "code",
   "execution_count": 75,
   "metadata": {},
   "outputs": [],
   "source": [
    "import torch\n",
    "from torch import nn\n",
    "from matplotlib import pyplot as plt\n",
    "%matplotlib inline"
   ]
  },
  {
   "cell_type": "code",
   "execution_count": 76,
   "metadata": {},
   "outputs": [],
   "source": [
    "words = open(\"webhacking.txt\", \"r\").read().splitlines()\n",
    "# with open('webhacking.txt', 'r', encoding='utf-8') as f:\n",
    "#     words = f.read()"
   ]
  },
  {
   "cell_type": "code",
   "execution_count": 77,
   "metadata": {},
   "outputs": [
    {
     "name": "stdout",
     "output_type": "stream",
     "text": [
      "{1: ' ', 2: '!', 3: '$', 4: '&', 5: '(', 6: ')', 7: ',', 8: '-', 0: '.', 10: '0', 11: '1', 12: '2', 13: '3', 14: '5', 15: '6', 16: '7', 17: '9', 18: ':', 19: ';', 20: '?', 21: 'A', 22: 'B', 23: 'C', 24: 'D', 25: 'E', 26: 'F', 27: 'G', 28: 'H', 29: 'I', 30: 'J', 31: 'K', 32: 'L', 33: 'M', 34: 'N', 35: 'O', 36: 'P', 37: 'Q', 38: 'R', 39: 'S', 40: 'T', 41: 'U', 42: 'V', 43: 'W', 44: 'Y', 45: 'a', 46: 'b', 47: 'c', 48: 'd', 49: 'e', 50: 'f', 51: 'g', 52: 'h', 53: 'i', 54: 'j', 55: 'k', 56: 'l', 57: 'm', 58: 'n', 59: 'o', 60: 'p', 61: 'q', 62: 'r', 63: 's', 64: 't', 65: 'u', 66: 'v', 67: 'w', 68: 'x', 69: 'y', 70: 'z', 71: 'â', 72: '€', 73: '™'}\n",
      "74\n"
     ]
    }
   ],
   "source": [
    "chars = sorted(list(set(''.join(words))))\n",
    "stoi = {s: i+1 for i, s in enumerate(chars)}\n",
    "stoi['.'] = 0\n",
    "itos = {i: s for s, i in stoi.items()}\n",
    "vocab_size = len(itos) + 1\n",
    "print(itos)\n",
    "print(vocab_size)\n"
   ]
  },
  {
   "cell_type": "code",
   "execution_count": 78,
   "metadata": {},
   "outputs": [
    {
     "name": "stdout",
     "output_type": "stream",
     "text": [
      "torch.Size([11829, 8]) torch.Size([11829])\n",
      "torch.Size([1479, 8]) torch.Size([1479])\n",
      "torch.Size([1452, 8]) torch.Size([1452])\n"
     ]
    }
   ],
   "source": [
    "# build the dataset\n",
    "# context length: how many characters do we take to predict the next one?\n",
    "import random\n",
    "block_size = 8\n",
    "\n",
    "\n",
    "def build_dataset(words):\n",
    "  X, Y = [], []\n",
    "\n",
    "  for w in words:\n",
    "    context = [0] * block_size\n",
    "    for ch in w + '.':\n",
    "      ix = stoi[ch]\n",
    "      X.append(context)\n",
    "      Y.append(ix)\n",
    "      context = context[1:] + [ix]  # crop and append\n",
    "\n",
    "\n",
    "  X = torch.tensor(X)\n",
    "  Y = torch.tensor(Y)\n",
    "  print(X.shape, Y.shape)\n",
    "  return X, Y\n",
    "\n",
    "random.seed(42)\n",
    "# random.shuffle(words)\n",
    "n1 = int(0.8*len(words))\n",
    "n2 = int(0.9*len(words))\n",
    "\n",
    "Xtr,  Ytr = build_dataset(words[:n1])     # 80%\n",
    "Xdev, Ydev = build_dataset(words[n1:n2])   # 10%\n",
    "Xte,  Yte = build_dataset(words[n2:])     # 10%\n"
   ]
  },
  {
   "cell_type": "code",
   "execution_count": null,
   "metadata": {},
   "outputs": [],
   "source": [
    "frick = torch.randn((73,25))\n",
    "\n",
    "frick[72]"
   ]
  },
  {
   "cell_type": "code",
   "execution_count": null,
   "metadata": {},
   "outputs": [],
   "source": [
    "\n",
    "g = torch.Generator().manual_seed(2147483647)\n",
    "\n",
    "C = torch.randn((27, n_embed), generator=g)\n",
    "w1 = torch.randn(n_embed * block_size, n_hidden, generator=g) * (5/3)/(n_embed * block_size) **0.5\n",
    "# b1 = torch.randn([n_hidden]) * 0.01\n",
    "w2 = torch.randn(n_hidden, vocab_size, generator=g) * 0.01\n",
    "b2 = torch.randn([vocab_size], generator = g) * 0\n",
    "\n",
    "bngain = torch.ones((1, n_hidden))\n",
    "bnbias = torch.zeros((1, n_hidden))\n",
    "bn_meanrunning = torch.zeros([1, n_hidden])\n",
    "bn_stdrunning = torch.ones([1, n_hidden])\n",
    "parameters = [C, w1, w2, b2, bngain,bnbias]\n",
    "print(sum(p.nelement() for p in parameters))\n",
    "for i in parameters:\n",
    "    i.requires_grad = True"
   ]
  },
  {
   "cell_type": "code",
   "execution_count": null,
   "metadata": {},
   "outputs": [],
   "source": [
    "max_steps = 200000\n",
    "bacth_size = 32\n",
    "lossi = []\n",
    "\n",
    "for i in range(max_steps):\n",
    "    ix = torch.randint(0, Xtr.shape[0], (bacth_size,))\n",
    "\n",
    "    # ix = ix.\n",
    "    Xb, Yb = Xtr[ix], Ytr[ix]\n",
    "\n",
    "    emb = C[Xb]\n",
    "    # hidden = torch.tanh(emb.view( -1, block_size * n_embed) @ w1 + b1)\n",
    "    hpreact = emb.view(-1, block_size * n_embed) @ w1\n",
    "    bnmeani = hpreact.mean(0, keepdim=True)\n",
    "    bnstdi = hpreact.std(0, keepdim=True)\n",
    "    hpreact = bngain * ((hpreact - bnmeani) / bnstdi) + bnbias\n",
    "\n",
    "    hpreact = torch.tanh(hpreact)\n",
    "    finreact = hpreact @ w2 + b2\n",
    "\n",
    "    loss = nn.functional.cross_entropy(finreact, Yb)\n",
    "\n",
    "    \n",
    "        \n",
    "    for p in parameters:\n",
    "        p.grad = None\n",
    "\n",
    "        \n",
    "    loss.backward()\n",
    "\n",
    "    lr = 0.1 if i < 100000 else 0.01\n",
    "\n",
    "    for p in parameters:\n",
    "        p.data += - lr * p.grad\n",
    "    with torch.no_grad():\n",
    "        bn_meanrunning = 0.999 * bn_meanrunning + 0.001 * bnmeani\n",
    "        bn_stdrunning = 0.999 * bn_stdrunning + 0.001 * bnstdi\n",
    "    if i % 10000 == 0:\n",
    "        print(f\"{i:7d}/ {max_steps} : {loss.item():.4f}\")\n",
    "    lossi.append(loss.log10().item())"
   ]
  },
  {
   "cell_type": "code",
   "execution_count": null,
   "metadata": {},
   "outputs": [],
   "source": [
    "with torch.no_grad():\n",
    "\n",
    "    res = C[Xtr]\n",
    "    hidden = res.view(-1, n_embed * block_size) @ w1 + b1\n",
    "    hidden = torch.tanh(hidden)\n",
    "\n",
    "    bnmean = hidden.mean(0, keepdim=True)\n",
    "    bnstd = hidden.std(0, keepdim=True)"
   ]
  },
  {
   "cell_type": "code",
   "execution_count": null,
   "metadata": {},
   "outputs": [],
   "source": [
    "bnmean"
   ]
  },
  {
   "cell_type": "code",
   "execution_count": null,
   "metadata": {},
   "outputs": [],
   "source": [
    "# bn_meanrunning\n",
    "\n",
    "x = torch.tensor([[1,2,3,4],[5,6,7,8],[9,10,11,12]])\n",
    "y = torch.tensor(([[5,10,15,20]]))\n",
    "\n",
    "print((x @ y) )"
   ]
  },
  {
   "cell_type": "code",
   "execution_count": null,
   "metadata": {},
   "outputs": [],
   "source": [
    "plt.hist(hidden.view(-1).tolist(), bins = 50);"
   ]
  },
  {
   "cell_type": "code",
   "execution_count": null,
   "metadata": {},
   "outputs": [],
   "source": [
    "plt.figure(figsize=(20,20))\n",
    "\n",
    "plt.imshow(hpreact.abs() > 0.99 , cmap='gray', interpolation='nearest')"
   ]
  },
  {
   "cell_type": "code",
   "execution_count": null,
   "metadata": {},
   "outputs": [],
   "source": [
    "@torch.no_grad()  # this decorator disables gradient tracking\n",
    "def split_loss(split):\n",
    "  x, y = {\n",
    "      'train': (Xtr, Ytr),\n",
    "      'val': (Xdev, Ydev),\n",
    "      'test': (Xte, Yte),\n",
    "  }[split]\n",
    "  emb = C[x]  # (N, block_size, n_embd)\n",
    "  embcat = emb.view(emb.shape[0], -1)  # concat into (N, block_size * n_embd)\n",
    "  hidden = embcat @ w1 + b1\n",
    "  hidden = bngain * ((hidden - bn_meanrunning) / bn_stdrunning) + bnbias\n",
    "  hidden = torch.tanh(hidden)\n",
    "  logits = hidden @ w2 + b2\n",
    "  loss = nn.functional.cross_entropy(logits, y)\n",
    "  print(split, loss.item())\n",
    "\n",
    "\n",
    "split_loss('train')\n",
    "split_loss('val')\n"
   ]
  },
  {
   "cell_type": "code",
   "execution_count": 79,
   "metadata": {},
   "outputs": [],
   "source": [
    "class linear:\n",
    "\n",
    "    def __init__(self,fan_ins,fan_outs,bias=True):\n",
    "        self.weight = torch.randn([fan_ins,fan_outs]) / (fan_ins)**0.5\n",
    "        self.bias = torch.zeros([fan_outs]) if bias else None\n",
    "\n",
    "    def __call__(self, x):\n",
    "        self.out = x @ self.weight\n",
    "        if self.bias is not None:\n",
    "            self.out += self.bias\n",
    "        return self.out\n",
    "    \n",
    "    def parameters(self):\n",
    "        return [self.weight] + ([] if self.bias is None else [self.bias])\n",
    "    \n",
    "class batchnorm1d:\n",
    "\n",
    "    def __init__(self, dim, eps=1e-5,momentum=0.1):\n",
    "        self.eps = eps\n",
    "        self.momentum = momentum\n",
    "        self.training = True\n",
    "\n",
    "        self.gamma = torch.ones([dim])\n",
    "        self.beta = torch.zeros([dim])\n",
    "\n",
    "        self.running_mean = torch.zeros([dim])\n",
    "        self.running_var = torch.ones([dim])\n",
    "\n",
    "    def __call__(self, x):\n",
    "\n",
    "        if self.training:\n",
    "            dim = 0\n",
    "            if x.ndim == 2:\n",
    "                dim = (0,1)\n",
    "            xmean = x.mean(dim, keepdim=True)\n",
    "            xvar = x.var(dim, keepdim=True)\n",
    "        else:\n",
    "            xmean = self.running_mean\n",
    "            xvar = self.running_var\n",
    "\n",
    "        xhat = (x - xmean ) / xvar ** 0.5\n",
    "        self.out = self.gamma * xhat + self.beta\n",
    "\n",
    "\n",
    "        if self.training:\n",
    "            with torch.no_grad():\n",
    "                self.running_mean = (1 - self.momentum) * self.running_mean + self.momentum * xmean\n",
    "                self.running_var = (1 - self.momentum) * self.running_var + self.momentum * xvar\n",
    "\n",
    "        return self.out\n",
    "    \n",
    "    def parameters(self):\n",
    "        return [self.gamma, self.beta]\n",
    "    \n",
    "class Tanh:\n",
    "    def __call__(self, x):\n",
    "        self.out = torch.tanh(x)\n",
    "        return self.out\n",
    "\n",
    "\n",
    "    def parameters(self):\n",
    "        return []\n",
    "    \n",
    "class Embedding:\n",
    "    def __init__(self, vocab_size, n_embed):\n",
    "        self.weight = torch.randn([vocab_size, n_embed])\n",
    "\n",
    "    def __call__(self, x):\n",
    "        self.out = self.weight[x]\n",
    "        return self.out\n",
    "    \n",
    "    def parameters(self):\n",
    "        return [self.weight]\n",
    "\n",
    "class flatten:\n",
    "\n",
    "    def __init__(self, n):\n",
    "        self.n = n\n",
    "    \n",
    "    def __call__(self, x):\n",
    "        b,t,c = x.shape\n",
    "        rip = x.view(b,t//self.n,c*self.n)\n",
    "        \n",
    "        if rip.shape[1] == 1:\n",
    "            rip = rip.squeeze(1)\n",
    "\n",
    "        self.out = rip\n",
    "        return self.out\n",
    "    \n",
    "    def parameters(self):\n",
    "        return []\n",
    "\n",
    "class sequential:\n",
    "    def __init__(self, layers):\n",
    "\n",
    "        self.layers = layers\n",
    "\n",
    "    def __call__(self, x):\n",
    "        for layer in self.layers:\n",
    "            x = layer(x)\n",
    "        self.out = x\n",
    "        return self.out\n",
    "    \n",
    "    def parameters(self):\n",
    "        return [p for layer in self.layers for p in layer.parameters()]"
   ]
  },
  {
   "cell_type": "code",
   "execution_count": 80,
   "metadata": {},
   "outputs": [
    {
     "name": "stdout",
     "output_type": "stream",
     "text": [
      "83770\n"
     ]
    }
   ],
   "source": [
    "n_embed = 24\n",
    "n_hidden = 128\n",
    "\n",
    "# C = torch.randn([vocab_size, n_embed])\n",
    "model = sequential([\n",
    "    Embedding(vocab_size, n_embed),\n",
    "    flatten(2), linear(n_embed * 2, n_hidden, bias=False), batchnorm1d(n_hidden), Tanh(),\n",
    "    flatten(2), linear(n_hidden * 2,n_hidden, bias=False), batchnorm1d(n_hidden), Tanh(),\n",
    "    flatten(2), linear(n_hidden * 2, n_hidden, bias=False), batchnorm1d(n_hidden), Tanh(),\n",
    "    linear(n_hidden, vocab_size)\n",
    "])\n",
    "\n",
    "with torch.no_grad():\n",
    "    model.layers[-1].weight *= 0.1\n",
    "\n",
    "    # for layer in layers:\n",
    "    #     if isinstance(layer, linear):\n",
    "    #         layer.weight *= 5/3\n",
    "\n",
    "parameters = model.parameters()\n",
    "print(sum(p.nelement() for p in parameters))\n",
    "for p in parameters:\n",
    "    p.requires_grad = True"
   ]
  },
  {
   "cell_type": "code",
   "execution_count": null,
   "metadata": {},
   "outputs": [],
   "source": [
    "for layer in model.layers:\n",
    "    print(f\"{layer.__class__.__name__} : {tuple(layer.out.shape)}\")"
   ]
  },
  {
   "cell_type": "code",
   "execution_count": 81,
   "metadata": {},
   "outputs": [
    {
     "name": "stdout",
     "output_type": "stream",
     "text": [
      "torch.Size([32, 74]) torch.Size([32])\n",
      "      0/      1: 4.3029\n",
      "tensor(4.3029, grad_fn=<NllLossBackward0>)\n"
     ]
    }
   ],
   "source": [
    "max_steps = 1\n",
    "batch_size = 32\n",
    "losses = []\n",
    "ud = []\n",
    "for i in range(max_steps):\n",
    "    ix = torch.randint(0, Xtr.shape[0], (batch_size,))\n",
    "    Xb , Yb = Xtr[ix], Ytr[ix]\n",
    "    \n",
    "    # print(Xb[0][1])\n",
    "    #forward pass\n",
    "\n",
    "\n",
    "    x = model(Xb)\n",
    "    print(x.shape,  Yb.shape)\n",
    "    loss = nn.functional.cross_entropy(x, Yb)\n",
    "     \n",
    "    for p in parameters:\n",
    "        p.grad = None\n",
    "    loss.backward()\n",
    "\n",
    "    lr = 0.1 if i < 100000 else 0.01\n",
    "    for p in parameters:\n",
    "        p.data += -lr * p.grad\n",
    "\n",
    "    if i % 10000 == 0:\n",
    "        print(f\"{i:7d}/{max_steps:7d}: {loss.item():.4f}\")\n",
    "    losses.append(loss.log10().item())\n",
    "    with torch.no_grad():\n",
    "        ud.append([((lr*p.grad).std() / p.data.std()).log10().item() for p in parameters])\n",
    "\n",
    "    loss = nn.functional.cross_entropy(x, Yb)\n",
    "    # break\n",
    "print(loss)\n"
   ]
  },
  {
   "cell_type": "code",
   "execution_count": null,
   "metadata": {},
   "outputs": [],
   "source": [
    "# visualize histograms\n",
    "plt.figure(figsize=(20, 4))  # width and height of the plot\n",
    "legends = []\n",
    "for i, layer in enumerate(model.layers[:-1]):  # note: exclude the output layer\n",
    "  if isinstance(layer, Tanh):\n",
    "    t = layer.out\n",
    "    print('layer %d (%10s): mean %+.2f, std %.2f, saturated: %.2f%%' %\n",
    "          (i, layer.__class__.__name__, t.mean(), t.std(), (t.abs() > 0.97).float().mean()*100))\n",
    "    hy, hx = torch.histogram(t, density=True)\n",
    "    plt.plot(hx[:-1].detach(), hy.detach())\n",
    "    legends.append(f'layer {i} ({layer.__class__.__name__}')\n",
    "plt.legend(legends)\n",
    "plt.title('activation distribution')\n"
   ]
  },
  {
   "cell_type": "code",
   "execution_count": null,
   "metadata": {},
   "outputs": [],
   "source": [
    "plt.figure(figsize=(20, 4))\n",
    "legends = []\n",
    "for i, p in enumerate(parameters):\n",
    "  if p.ndim == 2:\n",
    "    plt.plot([ud[j][i] for j in range(len(ud))])\n",
    "    legends.append('param %d' % i)\n",
    "# these ratios should be ~1e-3, indicate on plot\n",
    "plt.plot([0, len(ud)], [-3, -3], 'k')\n",
    "plt.legend(legends);\n"
   ]
  },
  {
   "cell_type": "code",
   "execution_count": null,
   "metadata": {},
   "outputs": [],
   "source": [
    "for layer in model.layers:\n",
    "    layer.training = False"
   ]
  },
  {
   "cell_type": "code",
   "execution_count": null,
   "metadata": {},
   "outputs": [],
   "source": [
    "\n",
    "for i in range(200):\n",
    "\n",
    "    # context  = [random.randint(0, vocab_size-1) for i in range(block_size)]\n",
    "    context = [0]*block_size\n",
    "    # print(context)\n",
    "    out = [i for i in context]\n",
    "\n",
    "    while True:\n",
    "        ix = torch.tensor([context])\n",
    "\n",
    "        # ix = torch.randint(0, Xtr.shape[0], (batch_size,))\n",
    "        # Xb, Yb = C[Xtr[ix]], Ytr[ix]\n",
    "\n",
    "        # forward pass\n",
    "\n",
    "        # x = ix.view(-1, n_embed * block_size)\n",
    "        x = model(ix)\n",
    "        probs = nn.functional.softmax(x, dim=1)\n",
    "\n",
    "        charindex = torch.multinomial(probs, 1)\n",
    "        context = context[1:] + [charindex]\n",
    "\n",
    "        out.append(charindex.item())\n",
    "\n",
    "        if charindex.item() == 0:\n",
    "            break\n",
    "    print(\"\".join(itos[i] for i in out))"
   ]
  }
 ],
 "metadata": {
  "kernelspec": {
   "display_name": "Python 3",
   "language": "python",
   "name": "python3"
  },
  "language_info": {
   "codemirror_mode": {
    "name": "ipython",
    "version": 3
   },
   "file_extension": ".py",
   "mimetype": "text/x-python",
   "name": "python",
   "nbconvert_exporter": "python",
   "pygments_lexer": "ipython3",
   "version": "3.9.13"
  },
  "orig_nbformat": 4
 },
 "nbformat": 4,
 "nbformat_minor": 2
}
