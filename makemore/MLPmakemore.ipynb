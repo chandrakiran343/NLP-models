{
 "cells": [
  {
   "cell_type": "code",
   "execution_count": 1,
   "metadata": {},
   "outputs": [
    {
     "name": "stderr",
     "output_type": "stream",
     "text": [
      "C:\\Users\\chand\\AppData\\Local\\Packages\\PythonSoftwareFoundation.Python.3.9_qbz5n2kfra8p0\\LocalCache\\local-packages\\Python39\\site-packages\\tqdm\\auto.py:22: TqdmWarning: IProgress not found. Please update jupyter and ipywidgets. See https://ipywidgets.readthedocs.io/en/stable/user_install.html\n",
      "  from .autonotebook import tqdm as notebook_tqdm\n"
     ]
    }
   ],
   "source": [
    "import torch\n",
    "import torch.nn as nn\n",
    "import random\n",
    "import matplotlib.pyplot as plt\n",
    "%matplotlib inline"
   ]
  },
  {
   "cell_type": "code",
   "execution_count": 2,
   "metadata": {},
   "outputs": [],
   "source": [
    "words = open(\"names.txt\", \"r\").read().splitlines()"
   ]
  },
  {
   "cell_type": "code",
   "execution_count": 3,
   "metadata": {},
   "outputs": [],
   "source": [
    "chars = sorted(list(set(\"\".join(words))))\n",
    "\n",
    "chartoint = {c:i+1 for i,c in enumerate(chars)}\n",
    "inttochar = {i+1:c for i,c in enumerate(chars)}\n",
    "\n",
    "chartoint[\".\"] = 0\n",
    "inttochar[0] = \".\"\n",
    "block_size = 4\n"
   ]
  },
  {
   "cell_type": "code",
   "execution_count": 4,
   "metadata": {},
   "outputs": [],
   "source": [
    "def build_dataset(words):\n",
    "    x, y = [], []\n",
    "    for i in words:\n",
    "        context = [0] * block_size\n",
    "        for ch in i + \".\":\n",
    "            ix = chartoint[ch]\n",
    "            x.append(context)\n",
    "            y.append(ix)\n",
    "            # print(\"\".join(inttochar[i] for i in context), \"---->\", inttochar[ix])\n",
    "            context = context[1:] + [ix]\n",
    "    X = torch.tensor(x)\n",
    "    Y = torch.tensor(y)\n",
    "    return X, Y\n",
    "\n",
    "c = torch.randn([27, 10])\n",
    "w1 = torch.randn([40, 200])\n",
    "b1 = torch.randn([200])\n",
    "w2 = torch.randn(200, 27)\n",
    "b2 = torch.randn(27)\n",
    "\n",
    "parameters = [w1, b1, w2, b2, c]\n",
    "random.seed(42)\n",
    "random.shuffle(words)\n",
    "n1 = int(0.8*len(words))\n",
    "n2 = int(0.9*len(words))\n",
    "Xtr, Ytr = build_dataset(words[:n1])\n",
    "Xdev, Ydev = build_dataset(words[n1:n2])\n",
    "Xtest, Ytest = build_dataset(words[n2:]) \n",
    "\n",
    "for p in parameters:\n",
    "    p.requires_grad = True\n",
    "\n",
    "stepi = []\n",
    "lossi = []"
   ]
  },
  {
   "cell_type": "code",
   "execution_count": 8,
   "metadata": {},
   "outputs": [
    {
     "name": "stdout",
     "output_type": "stream",
     "text": [
      "torch.int64\n",
      "torch.Size([27, 10]) torch.Size([1844, 4])\n",
      "torch.Size([27, 10]) torch.Size([1844, 4])\n",
      "torch.Size([27, 10]) torch.Size([1844, 4])\n",
      "torch.Size([27, 10]) torch.Size([1844, 4])\n",
      "torch.Size([27, 10]) torch.Size([1844, 4])\n",
      "torch.Size([27, 10]) torch.Size([1844, 4])\n"
     ]
    },
    {
     "ename": "KeyboardInterrupt",
     "evalue": "",
     "output_type": "error",
     "traceback": [
      "\u001b[1;31m---------------------------------------------------------------------------\u001b[0m",
      "\u001b[1;31mKeyboardInterrupt\u001b[0m                         Traceback (most recent call last)",
      "\u001b[1;32mc:\\Users\\chand\\nanogpt\\makemore\\MLPmakemore.ipynb Cell 5\u001b[0m in \u001b[0;36m7\n\u001b[0;32m      <a href='vscode-notebook-cell:/c%3A/Users/chand/nanogpt/makemore/MLPmakemore.ipynb#W4sZmlsZQ%3D%3D?line=4'>5</a>\u001b[0m \u001b[39mprint\u001b[39m(c\u001b[39m.\u001b[39mshape, Xtr[ix]\u001b[39m.\u001b[39mshape)\n\u001b[0;32m      <a href='vscode-notebook-cell:/c%3A/Users/chand/nanogpt/makemore/MLPmakemore.ipynb#W4sZmlsZQ%3D%3D?line=5'>6</a>\u001b[0m result \u001b[39m=\u001b[39m c[Xtr]\n\u001b[1;32m----> <a href='vscode-notebook-cell:/c%3A/Users/chand/nanogpt/makemore/MLPmakemore.ipynb#W4sZmlsZQ%3D%3D?line=6'>7</a>\u001b[0m hidden \u001b[39m=\u001b[39m torch\u001b[39m.\u001b[39;49mtanh(result\u001b[39m.\u001b[39;49mview(\u001b[39m-\u001b[39;49m\u001b[39m1\u001b[39;49m, \u001b[39m40\u001b[39;49m) \u001b[39m@\u001b[39;49m w1 \u001b[39m+\u001b[39;49m b1)\n\u001b[0;32m      <a href='vscode-notebook-cell:/c%3A/Users/chand/nanogpt/makemore/MLPmakemore.ipynb#W4sZmlsZQ%3D%3D?line=8'>9</a>\u001b[0m logits \u001b[39m=\u001b[39m hidden \u001b[39m@\u001b[39m w2 \u001b[39m+\u001b[39m b2\n\u001b[0;32m     <a href='vscode-notebook-cell:/c%3A/Users/chand/nanogpt/makemore/MLPmakemore.ipynb#W4sZmlsZQ%3D%3D?line=9'>10</a>\u001b[0m loss \u001b[39m=\u001b[39m nn\u001b[39m.\u001b[39mfunctional\u001b[39m.\u001b[39mcross_entropy(logits, Ytr)\n",
      "\u001b[1;31mKeyboardInterrupt\u001b[0m: "
     ]
    }
   ],
   "source": [
    "print(Xtr.dtype)\n",
    "\n",
    "for i in range(30000):\n",
    "    ix = torch.randint(0, Xtr.shape[0], (1844,))\n",
    "    print(c.shape, Xtr[ix].shape)\n",
    "    result = c[Xtr[ix]]\n",
    "    hidden = torch.tanh(result.view(-1, 40) @ w1 + b1)\n",
    "\n",
    "    logits = hidden @ w2 + b2\n",
    "    loss = nn.functional.cross_entropy(logits, Ytr[ix])\n",
    "\n",
    "    # backwards\n",
    "    for parameter in parameters:\n",
    "        parameter.grad = None\n",
    "    loss.backward()\n",
    "\n",
    "    for p in parameters:\n",
    "        p.data += -0.01 * p.grad\n",
    "\n",
    "    stepi.append(i)\n",
    "    lossi.append(loss.item())\n",
    "print(loss.item())\n"
   ]
  },
  {
   "cell_type": "code",
   "execution_count": null,
   "metadata": {},
   "outputs": [],
   "source": [
    "plt.plot(stepi, lossi)"
   ]
  },
  {
   "cell_type": "code",
   "execution_count": 295,
   "metadata": {},
   "outputs": [
    {
     "data": {
      "text/plain": [
       "tensor(2.1694, grad_fn=<NllLossBackward0>)"
      ]
     },
     "execution_count": 295,
     "metadata": {},
     "output_type": "execute_result"
    }
   ],
   "source": [
    "\n",
    "result = c[Xdev]\n",
    "hidden = torch.tanh(result.view(-1, 40) @ w1 + b1)\n",
    "\n",
    "logits = hidden @ w2 + b2\n",
    "loss = nn.functional.cross_entropy(logits, Ydev)\n",
    "loss"
   ]
  },
  {
   "cell_type": "code",
   "execution_count": 296,
   "metadata": {},
   "outputs": [
    {
     "data": {
      "text/plain": [
       "tensor(2.1658, grad_fn=<NllLossBackward0>)"
      ]
     },
     "execution_count": 296,
     "metadata": {},
     "output_type": "execute_result"
    }
   ],
   "source": [
    "result = c[Xtest]\n",
    "hidden = torch.tanh(result.view(-1, 40) @ w1 + b1)\n",
    "\n",
    "logits = hidden @ w2 + b2\n",
    "loss = nn.functional.cross_entropy(logits, Ytest)\n",
    "loss"
   ]
  },
  {
   "cell_type": "code",
   "execution_count": 297,
   "metadata": {},
   "outputs": [
    {
     "data": {
      "image/png": "[encoded data removed]",
      "text/plain": [
       "<Figure size 800x800 with 1 Axes>"
      ]
     },
     "metadata": {},
     "output_type": "display_data"
    }
   ],
   "source": [
    "plt.figure(figsize=(8,8))\n",
    "plt.scatter(c[:,0].data,c[:,1].data, s=200)\n",
    "\n",
    "for i in range(c.shape[0]):\n",
    "    plt.text(c[i,0].item(), c[i,1].item(), inttochar[i], ha=\"center\", va=\"center\", color=\"white\")\n",
    "plt.grid(\"minor\")"
   ]
  },
  {
   "cell_type": "code",
   "execution_count": null,
   "metadata": {},
   "outputs": [],
   "source": [
    "for i in range(200):\n",
    "\n",
    "    context = [0] * block_size\n",
    "\n",
    "    out = []\n",
    "\n",
    "    while True:\n",
    "\n",
    "        emb = c[torch.tensor([context])]\n",
    "        h = torch.tanh(emb.view(-1, 40) @ w1 + b1)\n",
    "        logits = h @ w2 + b2\n",
    "        probs = nn.functional.softmax(logits, dim=1)\n",
    "        ix = torch.multinomial(probs, 1).item()\n",
    "        context = context[1:] + [ix]\n",
    "        out.append(ix)\n",
    "        if ix == 0:\n",
    "            break\n",
    "    print(\"\".join(inttochar[i] for i in out))"
   ]
  }
 ],
 "metadata": {
  "kernelspec": {
   "display_name": "Python 3",
   "language": "python",
   "name": "python3"
  },
  "language_info": {
   "codemirror_mode": {
    "name": "ipython",
    "version": 3
   },
   "file_extension": ".py",
   "mimetype": "text/x-python",
   "name": "python",
   "nbconvert_exporter": "python",
   "pygments_lexer": "ipython3",
   "version": "3.9.13"
  },
  "orig_nbformat": 4
 },
 "nbformat": 4,
 "nbformat_minor": 2
}
