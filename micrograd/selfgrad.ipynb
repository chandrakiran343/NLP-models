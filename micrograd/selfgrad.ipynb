{
 "cells": [
  {
   "cell_type": "code",
   "execution_count": null,
   "metadata": {},
   "outputs": [],
   "source": [
    "import random\n",
    "import torch\n",
    "import matplotlib as plt\n",
    "from graphviz import Digraph"
   ]
  },
  {
   "cell_type": "code",
   "execution_count": 1,
   "metadata": {},
   "outputs": [
    {
     "name": "stdout",
     "output_type": "stream",
     "text": [
      "2.0\n"
     ]
    }
   ],
   "source": [
    "class value:\n",
    "    def __init__(self, data, children=() , sign=\"\", label=\"\"):\n",
    "        self.data = data\n",
    "        self._prev = set(children)\n",
    "        self.sign = sign\n",
    "        self.label = label\n",
    "        self._backward = lambda: None\n",
    "        self.grad = 0.0\n",
    "\n",
    "    def __add__(self,other):\n",
    "        other = value(other ) if not isinstance(other, value) else other\n",
    "\n",
    "        out = value(self.data + other.data, (self,other), sign=\"+\")\n",
    "\n",
    "        def _backward():\n",
    "            self.grad = 1.0 * out.grad\n",
    "            other.grad = 1.0 * out.grad\n",
    "        out._backward = _backward\n",
    "        return out\n",
    "    \n",
    "    def __radd__(self, other):\n",
    "        return self + (other)\n",
    "\n",
    "    def __mul__(self, other):\n",
    "        other = value(other) if not isinstance(other, value) else other\n",
    "        out = value(self.data * other.datam, (self, other), sign=\"*\")\n",
    "\n",
    "        def _backward():\n",
    "            self.grad = other.grad * out.grad\n",
    "            other.grad = self.grad * out.grad\n",
    "        out._backward = _backward\n",
    "\n",
    "        return out\n",
    "\n",
    "print(value(2.0).data)"
   ]
  },
  {
   "cell_type": "code",
   "execution_count": null,
   "metadata": {},
   "outputs": [],
   "source": [
    "class neuron:\n",
    "    def __init__(self, nin):\n",
    "        self.weights = [value(random.uniform(-1,1)) for x in range(nin)]\n",
    "        self.bias = value(random.uniform(-1,1))\n",
    "\n",
    "    def __call__(self, x):\n",
    "        act = sum(((wi*xi) for wi,xi in zip(self.weights, x)), self.bias)\n",
    "\n",
    "        out = act.tanh()\n",
    "\n",
    "        return out\n",
    "    \n",
    "\n",
    "class layer:\n",
    "    def __init__(self, nins, nout):\n",
    "        self.neurons = [neuron(nins) for _ in range(nout)]\n",
    "\n",
    "    def __call__(self, x):\n",
    "        outs = [f(x) for f in self.neurons]\n",
    "\n",
    "        return outs[0] if len(outs) == 1 else outs\n",
    "    \n",
    "class MLP:\n",
    "    def __init__(self, nins, nouts):\n",
    "        size = [nins] + nouts\n",
    "        self.layers = [layer(i, i+1) for i in range(len(size))]\n",
    "\n",
    "    def __call__(self, x):\n",
    "        for f in (self.layers):\n",
    "            x = f(x)\n",
    "        return x"
   ]
  }
 ],
 "metadata": {
  "kernelspec": {
   "display_name": "Python 3",
   "language": "python",
   "name": "python3"
  },
  "language_info": {
   "codemirror_mode": {
    "name": "ipython",
    "version": 3
   },
   "file_extension": ".py",
   "mimetype": "text/x-python",
   "name": "python",
   "nbconvert_exporter": "python",
   "pygments_lexer": "ipython3",
   "version": "3.9.13"
  },
  "orig_nbformat": 4,
  "vscode": {
   "interpreter": {
    "hash": "bcac82fb26a6e7c950421e78519edb87e1a5e005e0aec2fc293e679965bb2493"
   }
  }
 },
 "nbformat": 4,
 "nbformat_minor": 2
}
