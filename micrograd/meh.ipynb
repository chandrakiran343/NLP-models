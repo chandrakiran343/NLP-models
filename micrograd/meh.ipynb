{
 "cells": [
  {
   "cell_type": "code",
   "execution_count": 1,
   "metadata": {},
   "outputs": [
    {
     "name": "stderr",
     "output_type": "stream",
     "text": [
      "C:\\Users\\chand\\AppData\\Local\\Packages\\PythonSoftwareFoundation.Python.3.9_qbz5n2kfra8p0\\LocalCache\\local-packages\\Python39\\site-packages\\tqdm\\auto.py:22: TqdmWarning: IProgress not found. Please update jupyter and ipywidgets. See https://ipywidgets.readthedocs.io/en/stable/user_install.html\n",
      "  from .autonotebook import tqdm as notebook_tqdm\n"
     ]
    }
   ],
   "source": [
    "import math\n",
    "import numpy as np\n",
    "import torch\n",
    "import random\n",
    "import matplotlib.pyplot as plt\n",
    "%matplotlib inline"
   ]
  },
  {
   "cell_type": "code",
   "execution_count": 2,
   "metadata": {},
   "outputs": [],
   "source": [
    "class value:\n",
    "    def __init__(self, data, _children=(),sign='', label=\"\"):\n",
    "        self._prev = set(_children)\n",
    "        self.data = data\n",
    "        self.grad = 0.0\n",
    "        self.sign = sign\n",
    "        self.label = label\n",
    "        self._backward = lambda: None\n",
    "        self.traveled = []\n",
    "    \n",
    "    def __repr__(self):\n",
    "        return f\"value(data = {self.data}, grad is {self.grad}, sign is {self.sign}, label is {self.label})\"\n",
    "    def __add__(self, other):\n",
    "        other = value(other) if not isinstance(other, value) else other\n",
    "        out = value(self.data + other.data, (self,other),\"+\")\n",
    "        def _backward():\n",
    "            self.grad += 1.0 * out.grad\n",
    "            other.grad += 1.0 * out.grad\n",
    "        out._backward = _backward\n",
    "        return out\n",
    "    def __radd__(self, other):\n",
    "        return self + (other)\n",
    "    def relu(self):\n",
    "        out = value(0 if self.data < 0 else self.data)\n",
    "\n",
    "        def _backward():\n",
    "            self.grad = (out.data > 0) * out.grad\n",
    "        \n",
    "        out._backward = _backward \n",
    "        return out\n",
    "    def __mul__(self, other):\n",
    "        other = value(other) if not isinstance(other, value) else other\n",
    "        out = value(self.data * other.data,(self,other),\"*\")\n",
    "        def _backward():\n",
    "            self.grad += other.data * out.grad\n",
    "            other.grad += self.data * out.grad\n",
    "        \n",
    "        out._backward = _backward\n",
    "        return out \n",
    "    def __rmul__(self,other):\n",
    "        return self * (other)\n",
    "    \n",
    "    def __pow__(self, x):\n",
    "        self\n",
    "        assert isinstance(x, (int, float)) \n",
    "        # x = value(x) if not isinstance(x, value) else x\n",
    "        out = value(self.data ** x,(self,),\"**\")\n",
    "        def _backward():\n",
    "            # self.grad += x.data * self.data ** (x.data - 1.0) * out.grad\n",
    "            self.grad += (x * (self.data ** (x - 1) ))* out.grad\n",
    "        out._backward = _backward \n",
    "         \n",
    "\n",
    "        return out\n",
    "    \n",
    "    def exp(self):\n",
    "        x = self.data\n",
    "        out = value(math.exp(x),(self,),\"exp\")\n",
    "        def _backward():\n",
    "            self.grad += out.data * out.grad\n",
    "        out._backward = _backward\n",
    "        return out\n",
    "    \n",
    "    def __neg__(self):\n",
    "        return self * -1\n",
    "     \n",
    "    def __sub__(self, other):\n",
    "        out = self + (-other)\n",
    "\n",
    "        return out\n",
    "    \n",
    "    def __truediv__(self, other):\n",
    "        other = value(other) if not isinstance(other, value) else other\n",
    "        out = self * (other**-1)\n",
    "        return out\n",
    "    \n",
    "    def tanh(self):\n",
    "        n = self.data\n",
    "        t = (math.exp(2.0 * n) - 1.0 )/(math.exp(2.0 * n) + 1.0)\n",
    "        out = value(t,(self,),sign=\"tanh\", label=self.label)\n",
    "        def _backward():\n",
    "            self.grad += (1.0 - t**2) * out.grad\n",
    "        out._backward = _backward\n",
    "        return out\n",
    "    \n",
    "    def backprop(self):\n",
    "        self.grad = 1.0\n",
    "        topo = []\n",
    "        visited = set()\n",
    "        def build_topo(x):\n",
    "            if x not in visited:\n",
    "                visited.add(x)\n",
    "                for child in x._prev:\n",
    "                    build_topo(child)\n",
    "                topo.append(x)\n",
    "        build_topo(self)\n",
    "\n",
    "        for node in reversed(topo):\n",
    "            # return None\n",
    "            node._backward()"
   ]
  },
  {
   "cell_type": "code",
   "execution_count": 3,
   "metadata": {},
   "outputs": [],
   "source": [
    "from graphviz import Digraph\n",
    "\n",
    "def trace(x):\n",
    "    nodes, edges = set(), set()\n",
    "    def build(x):\n",
    "        if x not in nodes:\n",
    "            nodes.add(x)\n",
    "            for child in x._prev:\n",
    "                edges.add((child, x))\n",
    "                build(child)\n",
    "    build(x)\n",
    "    return nodes, edges\n",
    "\n",
    "\n",
    "def draw(number):\n",
    "    dot = Digraph(format=\"svg\",graph_attr={'rankdir':'LR'})\n",
    "\n",
    "    nodes, edges = trace(number)\n",
    "    for i in nodes:\n",
    "        uid = str(id(i))\n",
    "\n",
    "        dot.node(uid, label=\"{ %s | data %.4f | grad %.4f}\" % (i.label, i.data,i.grad), shape=\"record\")\n",
    "\n",
    "        if i.sign:\n",
    "            dot.node(name=f\"{uid+i.sign}\",label=f\"{i.sign}\")\n",
    "\n",
    "            dot.edge(uid+i.sign, uid)\n",
    "    for n1,n2 in edges:\n",
    "        dot.edge(str(id(n1)), str(id(n2))+n2.sign)  \n",
    "    \n",
    "    return dot\n",
    "# draw(l)"
   ]
  },
  {
   "cell_type": "code",
   "execution_count": 4,
   "metadata": {},
   "outputs": [],
   "source": [
    "x1 = value(2.0, label=\"x1\")\n",
    "x2 = value(0.0, label=\"x2\")\n",
    "\n",
    "w1 = value(-3.0, label=\"w1\")\n",
    "w2 = value(1.0, label=\"w2\")\n",
    "\n",
    "bias = value(6.8813, label=\"bias\")\n",
    "\n",
    "x1w1 = x1 * w1; x1w1.label = 'x1w1'\n",
    "x2w2 = x2 * w2; x2w2.label = 'x2w2'\n",
    "\n",
    "x1w1x2w2 = x1w1 + x2w2; x1w1x2w2.label = 'x1w1x2w2'\n",
    "\n",
    "n = x1w1x2w2 + bias; n.label = 'n'\n",
    "e = (2*n).exp()\n",
    "o =  (e - 1) / (e + 1); o.label = 'o'\n"
   ]
  },
  {
   "cell_type": "code",
   "execution_count": 5,
   "metadata": {},
   "outputs": [
    {
     "data": {
      "image/svg+xml": "<?xml version=\"1.0\" encoding=\"UTF-8\" standalone=\"no\"?>\n<!DOCTYPE svg PUBLIC \"-//W3C//DTD SVG 1.1//EN\"\n \"http://www.w3.org/Graphics/SVG/1.1/DTD/svg11.dtd\">\n<!-- Generated by graphviz version 7.1.0 (20230121.1956)\n -->\n<!-- Pages: 1 -->\n<svg width=\"542pt\" height=\"100pt\"\n viewBox=\"0.00 0.00 542.00 100.00\" xmlns=\"http://www.w3.org/2000/svg\" xmlns:xlink=\"http://www.w3.org/1999/xlink\">\n<g id=\"graph0\" class=\"graph\" transform=\"scale(1 1) rotate(0) translate(4 96)\">\n<polygon fill=\"white\" stroke=\"none\" points=\"-4,4 -4,-96 538,-96 538,4 -4,4\"/>\n<!-- 2659022989056 -->\n<g id=\"node1\" class=\"node\">\n<title>2659022989056</title>\n<polygon fill=\"none\" stroke=\"black\" points=\"0,-55.5 0,-91.5 197,-91.5 197,-55.5 0,-55.5\"/>\n<text text-anchor=\"middle\" x=\"16.5\" y=\"-69.8\" font-family=\"Times New Roman,serif\" font-size=\"14.00\">w2</text>\n<polyline fill=\"none\" stroke=\"black\" points=\"33,-55.5 33,-91.5\"/>\n<text text-anchor=\"middle\" x=\"73.5\" y=\"-69.8\" font-family=\"Times New Roman,serif\" font-size=\"14.00\">data 1.0000</text>\n<polyline fill=\"none\" stroke=\"black\" points=\"114,-55.5 114,-91.5\"/>\n<text text-anchor=\"middle\" x=\"155.5\" y=\"-69.8\" font-family=\"Times New Roman,serif\" font-size=\"14.00\">grad 0.0000</text>\n</g>\n<!-- 2659022990160* -->\n<g id=\"node4\" class=\"node\">\n<title>2659022990160*</title>\n<ellipse fill=\"none\" stroke=\"black\" cx=\"260\" cy=\"-45.5\" rx=\"27\" ry=\"18\"/>\n<text text-anchor=\"middle\" x=\"260\" y=\"-41.8\" font-family=\"Times New Roman,serif\" font-size=\"14.00\">*</text>\n</g>\n<!-- 2659022989056&#45;&gt;2659022990160* -->\n<g id=\"edge2\" class=\"edge\">\n<title>2659022989056&#45;&gt;2659022990160*</title>\n<path fill=\"none\" stroke=\"black\" d=\"M196.88,-56.41C205.84,-54.83 214.48,-53.32 222.33,-51.94\"/>\n<polygon fill=\"black\" stroke=\"black\" points=\"222.84,-55.4 232.08,-50.23 221.63,-48.51 222.84,-55.4\"/>\n</g>\n<!-- 2659022987568 -->\n<g id=\"node2\" class=\"node\">\n<title>2659022987568</title>\n<polygon fill=\"none\" stroke=\"black\" points=\"1.5,-0.5 1.5,-36.5 195.5,-36.5 195.5,-0.5 1.5,-0.5\"/>\n<text text-anchor=\"middle\" x=\"16.5\" y=\"-14.8\" font-family=\"Times New Roman,serif\" font-size=\"14.00\">x2</text>\n<polyline fill=\"none\" stroke=\"black\" points=\"31.5,-0.5 31.5,-36.5\"/>\n<text text-anchor=\"middle\" x=\"72\" y=\"-14.8\" font-family=\"Times New Roman,serif\" font-size=\"14.00\">data 0.0000</text>\n<polyline fill=\"none\" stroke=\"black\" points=\"112.5,-0.5 112.5,-36.5\"/>\n<text text-anchor=\"middle\" x=\"154\" y=\"-14.8\" font-family=\"Times New Roman,serif\" font-size=\"14.00\">grad 0.5001</text>\n</g>\n<!-- 2659022987568&#45;&gt;2659022990160* -->\n<g id=\"edge3\" class=\"edge\">\n<title>2659022987568&#45;&gt;2659022990160*</title>\n<path fill=\"none\" stroke=\"black\" d=\"M195.04,-34.67C204.6,-36.29 213.85,-37.86 222.2,-39.27\"/>\n<polygon fill=\"black\" stroke=\"black\" points=\"221.41,-42.69 231.85,-40.9 222.58,-35.78 221.41,-42.69\"/>\n</g>\n<!-- 2659022990160 -->\n<g id=\"node3\" class=\"node\">\n<title>2659022990160</title>\n<polygon fill=\"none\" stroke=\"black\" points=\"323,-27.5 323,-63.5 534,-63.5 534,-27.5 323,-27.5\"/>\n<text text-anchor=\"middle\" x=\"346.5\" y=\"-41.8\" font-family=\"Times New Roman,serif\" font-size=\"14.00\">x2w2</text>\n<polyline fill=\"none\" stroke=\"black\" points=\"370,-27.5 370,-63.5\"/>\n<text text-anchor=\"middle\" x=\"410.5\" y=\"-41.8\" font-family=\"Times New Roman,serif\" font-size=\"14.00\">data 0.0000</text>\n<polyline fill=\"none\" stroke=\"black\" points=\"451,-27.5 451,-63.5\"/>\n<text text-anchor=\"middle\" x=\"492.5\" y=\"-41.8\" font-family=\"Times New Roman,serif\" font-size=\"14.00\">grad 0.5001</text>\n</g>\n<!-- 2659022990160*&#45;&gt;2659022990160 -->\n<g id=\"edge1\" class=\"edge\">\n<title>2659022990160*&#45;&gt;2659022990160</title>\n<path fill=\"none\" stroke=\"black\" d=\"M287.38,-45.5C294.54,-45.5 302.77,-45.5 311.58,-45.5\"/>\n<polygon fill=\"black\" stroke=\"black\" points=\"311.5,-49 321.5,-45.5 311.5,-42 311.5,-49\"/>\n</g>\n</g>\n</svg>\n",
      "text/plain": [
       "<graphviz.graphs.Digraph at 0x26b1a259d90>"
      ]
     },
     "execution_count": 5,
     "metadata": {},
     "output_type": "execute_result"
    }
   ],
   "source": [
    "o.backprop()\n",
    "draw(x2w2)\n"
   ]
  },
  {
   "cell_type": "code",
   "execution_count": 6,
   "metadata": {},
   "outputs": [],
   "source": [
    "#  x = torch.rand(5,3)\n",
    "# print(x)\n",
    "# x1 = torch.tensor([2.0]); x1.requires_grad = True\n",
    "# x2 = torch.tensor([0.0]); x2.requires_grad = True\n",
    "# w1 = torch.tensor([-3.0]); w1.requires_grad = True\n",
    "# w2 = torch.tensor([1.0]); w2.requires_grad = True\n",
    "\n",
    "# bias = torch.tensor([6.8813]); bias.requires_grad = True\n",
    "\n",
    "# x1w1 = x1 * w1\n",
    "# x2w2 = x2 * w2\n",
    "# x1w1x2w2 = x1w1 + x2w2\n",
    "# n = x1w1x2w2 + bias\n",
    "# o = torch.tanh(n)\n",
    "\n",
    "\n",
    "# print(o.data.item())\n",
    "# o.backward()\n",
    "\n",
    "# # print(o.grad.item())\n",
    "# print(x1.grad.item(), x2.grad.item(), w1.grad.item(), w2.grad.item(), bias.grad.item())\n"
   ]
  },
  {
   "cell_type": "code",
   "execution_count": 7,
   "metadata": {},
   "outputs": [],
   "source": [
    "class neuron:\n",
    "    def __init__(self,nin):\n",
    "        self.w = [value(random.uniform(-1,1)) for _ in range(nin)]\n",
    "        self.b = value(random.uniform(-1,1))\n",
    "    \n",
    "    def __call__(self,x):\n",
    "        act =  sum((wi * xi for wi,xi in zip(self.w,x)),start=self.b)  \n",
    "\n",
    "        out = act.tanh()\n",
    "\n",
    "        return out\n",
    "\n",
    "    def parameters(self,):\n",
    "        return self.w + [self.b]  \n",
    "    \n",
    "class layer:\n",
    "    def __init__(self, nin,nout):\n",
    "        self.neurons = [neuron(nin) for _ in range(nout)]\n",
    "\n",
    "    def __call__(self,x):\n",
    "        outs = [n(x) for n in self.neurons]\n",
    "        return outs[0] if len(outs) == 1 else outs\n",
    "    \n",
    "    def parameters(self):\n",
    "        return [y for neuron in self.neurons for y in neuron.parameters()]\n",
    "\n",
    "class MLP:\n",
    "    def __init__(self,nins,nouts):\n",
    "        size = [nins] + nouts\n",
    "        self.layers = [layer(size[i],size[i+1]) for i in range(len(nouts))]\n",
    "\n",
    "    def __call__(self,x):\n",
    "        for f in self.layers:\n",
    "            x = f(x)    \n",
    "        return x\n",
    "    \n",
    "    def parameters(self):\n",
    "        return [p for layer in self.layers for p in layer.parameters()] \n",
    "    \n",
    "\n",
    "# plt.plot()"
   ]
  },
  {
   "cell_type": "code",
   "execution_count": 8,
   "metadata": {},
   "outputs": [],
   "source": [
    "frik = MLP(3,[4,4,1])"
   ]
  },
  {
   "cell_type": "code",
   "execution_count": 9,
   "metadata": {},
   "outputs": [],
   "source": [
    "xs = [\n",
    "    [2.0, 3.0, -1.0],\n",
    "    [3.0, -1.0, 0.5],\n",
    "    [0.5, 1.0, 1.0],\n",
    "    [1.0,1.0,-1.0]\n",
    "]\n",
    "\n",
    "ys = [1.0, -1.0,-1.0, 1.0]\n",
    "\n",
    "# draw(y[0])\n",
    "# print(y)\n",
    "\n",
    "\n",
    "\n",
    "# frik.parameters()"
   ]
  },
  {
   "cell_type": "code",
   "execution_count": 10,
   "metadata": {},
   "outputs": [
    {
     "data": {
      "text/plain": [
       "value(data = 3.5797527130710085, grad is 0.0, sign is +, label is )"
      ]
     },
     "execution_count": 10,
     "metadata": {},
     "output_type": "execute_result"
    }
   ],
   "source": [
    "y = [frik(x) for x in xs]\n",
    "loss = sum((pred - goal)**2 for pred, goal in zip(y,ys))\n",
    "loss"
   ]
  },
  {
   "cell_type": "code",
   "execution_count": 11,
   "metadata": {},
   "outputs": [
    {
     "data": {
      "text/plain": [
       "value(data = 3.5797527130710085, grad is 0.0, sign is +, label is )"
      ]
     },
     "execution_count": 11,
     "metadata": {},
     "output_type": "execute_result"
    }
   ],
   "source": [
    "\n",
    "\n",
    "delta = sum((pred - goal) for pred, goal in zip(y, ys))\n",
    "\n",
    "loss"
   ]
  },
  {
   "cell_type": "code",
   "execution_count": 12,
   "metadata": {},
   "outputs": [],
   "source": [
    "loss.backprop()"
   ]
  },
  {
   "cell_type": "code",
   "execution_count": 13,
   "metadata": {},
   "outputs": [],
   "source": [
    "for p in frik.parameters():\n",
    "    p.data += -0.01 * p.grad"
   ]
  },
  {
   "cell_type": "code",
   "execution_count": null,
   "metadata": {},
   "outputs": [],
   "source": [
    "for k in range(100):\n",
    "    y = [frik(x) for x in xs]\n",
    "    loss = sum((pred - goal)**2 for pred, goal in zip(y,ys))\n",
    "\n",
    "    for p in frik.parameters():\n",
    "        p.grad = 0.0\n",
    "    loss.backprop()\n",
    "\n",
    "    for p in frik.parameters():\n",
    "        p.data += -0.05 * p.grad\n",
    "    \n",
    "    print(k, loss.data, y)\n"
   ]
  }
 ],
 "metadata": {
  "kernelspec": {
   "display_name": "Python 3",
   "language": "python",
   "name": "python3"
  },
  "language_info": {
   "codemirror_mode": {
    "name": "ipython",
    "version": 3
   },
   "file_extension": ".py",
   "mimetype": "text/x-python",
   "name": "python",
   "nbconvert_exporter": "python",
   "pygments_lexer": "ipython3",
   "version": "3.9.13"
  },
  "orig_nbformat": 4,
  "vscode": {
   "interpreter": {
    "hash": "bcac82fb26a6e7c950421e78519edb87e1a5e005e0aec2fc293e679965bb2493"
   }
  }
 },
 "nbformat": 4,
 "nbformat_minor": 2
}
